{
 "cells": [
  {
   "cell_type": "markdown",
   "metadata": {},
   "source": [
    "# Trees and Binary Trees"
   ]
  },
  {
   "cell_type": "markdown",
   "metadata": {},
   "source": [
    "##### Define a class for tree data structure"
   ]
  },
  {
   "cell_type": "code",
   "execution_count": 35,
   "metadata": {},
   "outputs": [],
   "source": [
    "class TreeNode:  ## define a node in the tree, its data, parent,children, and methods,\n",
    "                    ###it can be an internal node or an external node\n",
    "        \n",
    "    def __init__(self, data): ## initialization, fill in the node with data\n",
    "        self.data = data\n",
    "        self.children = []\n",
    "        self.parent = None\n",
    "        \n",
    "    \n",
    "    def add_child(self, child): ## add a child to the node\n",
    "        child.parent = self\n",
    "        self.children.append(child)\n",
    "        return child\n",
    "        \n",
    "    def get_level(self):   ### find the level of a node\n",
    "        level = 0\n",
    "        p = self.parent\n",
    "        while p:\n",
    "            level += 1\n",
    "            p = p.parent\n",
    "\n",
    "        return level\n",
    "\n",
    "    def print_tree(self):   ### print all the subtree of a node\n",
    "        spaces = '   ' * self.get_level()\n",
    "        prefix = spaces + \"|__\" if self.parent else \"\"\n",
    "        print(prefix + self.data)\n",
    "        if self.children:\n",
    "            for child in self.children:\n",
    "                child.print_tree() \n"
   ]
  },
  {
   "cell_type": "code",
   "execution_count": 36,
   "metadata": {},
   "outputs": [
    {
     "data": {
      "text/plain": [
       "<__main__.TreeNode at 0x1f9ac5a6400>"
      ]
     },
     "execution_count": 36,
     "metadata": {},
     "output_type": "execute_result"
    }
   ],
   "source": [
    "## create a tree node instance\n",
    "TreeNode(\"Electronics\")"
   ]
  },
  {
   "cell_type": "code",
   "execution_count": 37,
   "metadata": {},
   "outputs": [],
   "source": [
    "###Lets define a fundtion which will create our tree with all nodes \n",
    "def build_product_tree():\n",
    "    root = TreeNode(\"Electronics\")\n",
    "\n",
    "    laptops = TreeNode(\"Laptops\")\n",
    "    laptops.add_child(TreeNode(\"Ubuntu\"))\n",
    "    laptops.add_child(TreeNode(\"MacBook Air\"))\n",
    "    laptops.add_child(TreeNode(\"Windows\"))\n",
    "    \n",
    "\n",
    "    phones = TreeNode(\"Phones\")\n",
    "    Iphones = phones.add_child(TreeNode(\"iPhone\"))\n",
    "    phones.add_child(TreeNode(\"Samsung\"))\n",
    "    \n",
    "    Iphones.add_child(TreeNode(\"12 Max\"))\n",
    "    \n",
    "    accessories = TreeNode(\"Accessories\")\n",
    "    accessories.add_child(TreeNode(\"Galaxy Cover\"))\n",
    "    \n",
    "\n",
    "    root.add_child(laptops)\n",
    "    root.add_child(phones)\n",
    "    root.add_child(accessories)\n",
    "    \n",
    "\n",
    "    root.print_tree()\n",
    "    print(accessories.get_level())"
   ]
  },
  {
   "cell_type": "code",
   "execution_count": 38,
   "metadata": {},
   "outputs": [
    {
     "name": "stdout",
     "output_type": "stream",
     "text": [
      "Electronics\n",
      "   |__Laptops\n",
      "      |__Ubuntu\n",
      "      |__MacBook Air\n",
      "      |__Windows\n",
      "   |__Phones\n",
      "      |__iPhone\n",
      "         |__12 Max\n",
      "      |__Samsung\n",
      "   |__Accessories\n",
      "      |__Galaxy Cover\n",
      "1\n"
     ]
    }
   ],
   "source": [
    "## Call the tree buiding function\n",
    "if __name__ == '__main__':\n",
    "    build_product_tree()"
   ]
  },
  {
   "cell_type": "markdown",
   "metadata": {},
   "source": [
    "#### Binary Trees"
   ]
  },
  {
   "cell_type": "code",
   "execution_count": 5,
   "metadata": {},
   "outputs": [],
   "source": [
    "class BinarySearchTreeNode:\n",
    "    def __init__(self, data):\n",
    "        self.data = data\n",
    "        self.left = None\n",
    "        self.right = None\n",
    "\n",
    "    def add_child(self, data): ## method to add a child to the tree\n",
    "        if data == self.data:\n",
    "            return # node already exist\n",
    "\n",
    "        if data < self.data:\n",
    "            if self.left:\n",
    "                self.left.add_child(data)\n",
    "            else:\n",
    "                self.left = BinarySearchTreeNode(data)\n",
    "        else:\n",
    "            if self.right:\n",
    "                self.right.add_child(data)\n",
    "            else:\n",
    "                self.right = BinarySearchTreeNode(data)\n",
    "\n",
    "\n",
    "    def search(self, val): ## method to search a value in the tree\n",
    "        if self.data == val:\n",
    "            return True\n",
    "\n",
    "        if val < self.data: #value might be in left subtree\n",
    "            if self.left:\n",
    "                return self.left.search(val)\n",
    "            else:       #end reached\n",
    "                return False\n",
    "\n",
    "        if val > self.data: #value might be in right subtree\n",
    "            if self.right:\n",
    "                return self.right.search(val)\n",
    "            else:      #end reached\n",
    "                return False\n",
    "\n",
    "    def in_order_traversal(self): ## method to perform in_order traversal\n",
    "        elements = []\n",
    "        #visit the left sub tree\n",
    "        if self.left:\n",
    "            elements += self.left.in_order_traversal()\n",
    "        \n",
    "        #visit the node\n",
    "        elements.append(self.data)\n",
    "\n",
    "        #visit the left sub tree\n",
    "        if self.right:\n",
    "            elements += self.right.in_order_traversal()\n",
    "\n",
    "        return elements\n",
    "\n",
    "\n",
    "    \n",
    "    \n",
    "    def delete(self, val):   ## method to remove a node in the tree\n",
    "        #print(self.data)\n",
    "        if val < self.data:  # value is less than current node\n",
    "            if self.left:\n",
    "                self.left = self.left.delete(val)\n",
    "        elif val > self.data:  # value is greater than current node\n",
    "            if self.right:\n",
    "                self.right = self.right.delete(val)\n",
    "        else:                   # value equals current node\n",
    "            if self.left is None and self.right is None: # current node has no children\n",
    "                return None\n",
    "            elif self.left is None:     #current node has only a right child\n",
    "                return self.right\n",
    "            elif self.right is None:    #current node has only a left child\n",
    "                return self.left\n",
    "            else:                       #current node has two children\n",
    "                min_val = self.right.find_min()\n",
    "                self.data = min_val\n",
    "                self.right = self.right.delete(min_val)\n",
    "\n",
    "        return self\n",
    "\n",
    "    def find_max(self):    ## method to find the maximum value in the tree\n",
    "        if self.right is None:\n",
    "            return self.data\n",
    "        return self.right.find_max()\n",
    "\n",
    "    def find_min(self):    ## method to find the minimum value in the tree\n",
    "        if self.left is None:\n",
    "            return self.data\n",
    "        return self.left.find_min()"
   ]
  },
  {
   "cell_type": "code",
   "execution_count": 6,
   "metadata": {},
   "outputs": [],
   "source": [
    "###Lets define a function which will create our tree from a list\n",
    "def build_tree(elements):\n",
    "    print(\"Building tree with these elements:\",elements)\n",
    "    root = BinarySearchTreeNode(elements[0])\n",
    "\n",
    "    for i in range(1,len(elements)):\n",
    "        root.add_child(elements[i])\n",
    "\n",
    "    return root\n"
   ]
  },
  {
   "cell_type": "code",
   "execution_count": 7,
   "metadata": {},
   "outputs": [
    {
     "name": "stdout",
     "output_type": "stream",
     "text": [
      "Building tree with these elements: ['Brunei', 'Kashmir', 'Greece', 'Italy', 'China', 'Brunei', 'UK', 'Italy']\n",
      "UK is in the list?  True\n",
      "Sweden is in the list?  False\n"
     ]
    }
   ],
   "source": [
    "# Lets test our tree class operations\n",
    "if __name__ == '__main__':\n",
    "     \n",
    "    countries = [\"Brunei\",\"Kashmir\",\"Greece\", \"Italy\",\"China\",\"Brunei\",\"UK\",\"Italy\"]\n",
    "    country_tree = build_tree(countries)\n",
    "\n",
    "    print(\"UK is in the list? \", country_tree.search(\"UK\"))\n",
    "    print(\"Sweden is in the list? \", country_tree.search(\"Sweden\"))\n",
    "\n",
    "    "
   ]
  },
  {
   "cell_type": "code",
   "execution_count": 10,
   "metadata": {},
   "outputs": [
    {
     "name": "stdout",
     "output_type": "stream",
     "text": [
      "Building tree with these elements: [17, 4, 1, 20, 9, 23, 18, 34]\n",
      "In order traversal gives this sorted list: [1, 4, 9, 17, 18, 20, 23, 34]\n",
      "Building tree with these elements: [17, 4, 1, 20, 9, 23, 18, 34]\n",
      "After deleting 20  [1, 4, 9, 17, 18, 23, 34]\n",
      "Building tree with these elements: [17, 4, 1, 20, 9, 23, 18, 34]\n",
      "After deleting 9  [1, 4, 17, 18, 20, 23, 34]\n",
      "Building tree with these elements: [17, 4, 1, 20, 9, 23, 18, 34]\n",
      "After deleting 17  [1, 4, 9, 18, 20, 23, 34]\n"
     ]
    },
    {
     "data": {
      "text/plain": [
       "False"
      ]
     },
     "execution_count": 10,
     "metadata": {},
     "output_type": "execute_result"
    }
   ],
   "source": [
    "    numbers_tree = build_tree([17, 4, 1, 20, 9, 23, 18, 34])\n",
    "    print(\"In order traversal gives this sorted list:\",numbers_tree.in_order_traversal())\n",
    "    numbers_tree = build_tree([17, 4, 1, 20, 9, 23, 18, 34])\n",
    "    numbers_tree.delete(20)\n",
    "    print(\"After deleting 20 \",numbers_tree.in_order_traversal()) # this should print [1, 4, 9, 17, 18, 23, 34]\n",
    "\n",
    "    numbers_tree = build_tree([17, 4, 1, 20, 9, 23, 18, 34])\n",
    "    numbers_tree.delete(9)\n",
    "    print(\"After deleting 9 \",numbers_tree.in_order_traversal())  # this should print [1, 4, 17, 18, 20, 23, 34]\n",
    "\n",
    "    numbers_tree = build_tree([17, 4, 1, 20, 9, 23, 18, 34])\n",
    "    numbers_tree.delete(17)\n",
    "    print(\"After deleting 17 \",numbers_tree.in_order_traversal())  # this should print [1, 4, 9, 18, 20, 23, 34]\n",
    "    numbers_tree.search(21)"
   ]
  },
  {
   "cell_type": "code",
   "execution_count": null,
   "metadata": {},
   "outputs": [],
   "source": []
  }
 ],
 "metadata": {
  "kernelspec": {
   "display_name": "Python 3",
   "language": "python",
   "name": "python3"
  },
  "language_info": {
   "codemirror_mode": {
    "name": "ipython",
    "version": 3
   },
   "file_extension": ".py",
   "mimetype": "text/x-python",
   "name": "python",
   "nbconvert_exporter": "python",
   "pygments_lexer": "ipython3",
   "version": "3.7.1"
  }
 },
 "nbformat": 4,
 "nbformat_minor": 2
}
