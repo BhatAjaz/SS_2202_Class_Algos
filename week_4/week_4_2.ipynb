{
 "cells": [
  {
   "cell_type": "code",
   "execution_count": 1,
   "metadata": {},
   "outputs": [],
   "source": [
    "class Node:\n",
    "    def __init__(self, data=None, next=None):\n",
    "        self.data = data\n",
    "        self.next = next\n",
    "        \n"
   ]
  },
  {
   "cell_type": "code",
   "execution_count": 2,
   "metadata": {},
   "outputs": [],
   "source": [
    "just_a_node = Node('goose')"
   ]
  },
  {
   "cell_type": "code",
   "execution_count": 64,
   "metadata": {},
   "outputs": [],
   "source": [
    "class LinkedList:\n",
    "    def __init__(self):\n",
    "        self.head = None\n",
    "        \n",
    "    def insert_node(self, data, location = 'start'):\n",
    "        new_node = Node(data)\n",
    "        \n",
    "        if (self.head is None):\n",
    "            self.head = new_node\n",
    "            \n",
    "        else: \n",
    "            if (location is 'start'):  ##same as stack\n",
    "                new_node.next = self.head\n",
    "                self.head = new_node\n",
    "                \n",
    "            if (location is 'end'):\n",
    "                current_node = self.head\n",
    "                while (current_node.next):\n",
    "                    current_node = current_node.next\n",
    "                current_node.next = new_node\n",
    "                \n",
    "    def get_length(self):\n",
    "        if (self.head is None):\n",
    "            print('LinkedList is Empty')\n",
    "            return\n",
    "        \n",
    "        current_node = self.head\n",
    "        counter = 0\n",
    "        while (current_node):\n",
    "            counter+=1\n",
    "            current_node = current_node.next\n",
    "            \n",
    "        print('Length is ', counter)\n",
    "        return counter\n",
    "        \n",
    "    def delete_node(self, location = 'start'): \n",
    "        if (self.head is None):\n",
    "            print('LinkedList is Empty, Nothing to delete from')\n",
    "            return\n",
    "        \n",
    "        if (location is 'start'):\n",
    "            self.head = self.head.next ##same as stack\n",
    "            \n",
    "        elif (location is 'end'):\n",
    "                current_node = self.head\n",
    "                while (current_node.next.next):\n",
    "                    current_node = current_node.next\n",
    "                current_node.next = None\n",
    "        \n",
    "        \n",
    "            \n",
    "            \n",
    "    def printLL (self):\n",
    "        if (self.head is None):\n",
    "            print('LinkedList is Empty')\n",
    "            return\n",
    "        current_node = self.head\n",
    "        list_names = ''\n",
    "        while (current_node):\n",
    "            list_names += str(current_node.data) + '---> '\n",
    "            current_node = current_node.next\n",
    "        print(list_names)\n",
    "            \n",
    "                 "
   ]
  },
  {
   "cell_type": "code",
   "execution_count": 65,
   "metadata": {},
   "outputs": [],
   "source": [
    "myLL = LinkedList()"
   ]
  },
  {
   "cell_type": "code",
   "execution_count": 66,
   "metadata": {},
   "outputs": [],
   "source": [
    "myLL.insert_node('lion','end')\n",
    "myLL.insert_node('goose','end')\n",
    "myLL.insert_node('frog','end')\n",
    "myLL.insert_node('zebra','end')"
   ]
  },
  {
   "cell_type": "code",
   "execution_count": 67,
   "metadata": {},
   "outputs": [
    {
     "name": "stdout",
     "output_type": "stream",
     "text": [
      "lion---> goose---> frog---> zebra---> \n"
     ]
    }
   ],
   "source": [
    "myLL.printLL()"
   ]
  },
  {
   "cell_type": "code",
   "execution_count": 59,
   "metadata": {},
   "outputs": [
    {
     "name": "stdout",
     "output_type": "stream",
     "text": [
      "Length is  4\n"
     ]
    },
    {
     "data": {
      "text/plain": [
       "4"
      ]
     },
     "execution_count": 59,
     "metadata": {},
     "output_type": "execute_result"
    }
   ],
   "source": [
    "myLL.get_length()"
   ]
  },
  {
   "cell_type": "code",
   "execution_count": 68,
   "metadata": {},
   "outputs": [],
   "source": [
    "myLL.delete_node(location = 'end')"
   ]
  },
  {
   "cell_type": "code",
   "execution_count": 69,
   "metadata": {},
   "outputs": [
    {
     "name": "stdout",
     "output_type": "stream",
     "text": [
      "lion---> goose---> frog---> \n",
      "Length is  3\n"
     ]
    },
    {
     "data": {
      "text/plain": [
       "3"
      ]
     },
     "execution_count": 69,
     "metadata": {},
     "output_type": "execute_result"
    }
   ],
   "source": [
    "myLL.printLL()\n",
    "myLL.get_length()"
   ]
  },
  {
   "cell_type": "code",
   "execution_count": 87,
   "metadata": {},
   "outputs": [],
   "source": [
    "class Stack:\n",
    "    def __init__ (self):\n",
    "        ## create an empty stack\n",
    "        self.s = LinkedList()\n",
    "        \n",
    "    def push (self, value):\n",
    "        # add an element onto the stack \n",
    "        self.s.insert_node(value,'start')\n",
    "        \n",
    "        \n",
    "    def pop (self):\n",
    "        #collect the topmost element\n",
    "        return self.s.delete_node('start')\n",
    "    \n",
    "    def printStack(self):\n",
    "        self.s.printLL()"
   ]
  },
  {
   "cell_type": "code",
   "execution_count": 88,
   "metadata": {},
   "outputs": [],
   "source": [
    "myStack = Stack()"
   ]
  },
  {
   "cell_type": "code",
   "execution_count": 89,
   "metadata": {},
   "outputs": [],
   "source": [
    "myStack.push(9)"
   ]
  },
  {
   "cell_type": "code",
   "execution_count": 90,
   "metadata": {},
   "outputs": [],
   "source": [
    "myStack.push(8)"
   ]
  },
  {
   "cell_type": "code",
   "execution_count": 91,
   "metadata": {},
   "outputs": [],
   "source": [
    "myStack.push(7)"
   ]
  },
  {
   "cell_type": "code",
   "execution_count": 94,
   "metadata": {},
   "outputs": [
    {
     "name": "stdout",
     "output_type": "stream",
     "text": [
      "8---> 9---> \n"
     ]
    }
   ],
   "source": [
    "myStack.printStack()"
   ]
  },
  {
   "cell_type": "code",
   "execution_count": 93,
   "metadata": {},
   "outputs": [],
   "source": [
    "myStack.pop()"
   ]
  },
  {
   "cell_type": "code",
   "execution_count": 95,
   "metadata": {},
   "outputs": [],
   "source": [
    "class Queue:\n",
    "    def __init__ (self):\n",
    "        ## create an empty queue\n",
    "        self.s = LinkedList()\n",
    "        \n",
    "    def enqueue (self, value):\n",
    "        # add an element onto the stack \n",
    "        self.s.insert_node(value,'end')\n",
    "        \n",
    "        \n",
    "    def dequeue (self):\n",
    "        #collect the topmost element\n",
    "        return self.s.delete_node('start')\n",
    "    \n",
    "    def printQueue(self):\n",
    "        self.s.printLL()"
   ]
  },
  {
   "cell_type": "code",
   "execution_count": 96,
   "metadata": {},
   "outputs": [],
   "source": [
    "myQueue = Queue()"
   ]
  },
  {
   "cell_type": "code",
   "execution_count": 97,
   "metadata": {},
   "outputs": [],
   "source": [
    "myQueue.enqueue('Syafiq')"
   ]
  },
  {
   "cell_type": "code",
   "execution_count": 98,
   "metadata": {},
   "outputs": [],
   "source": [
    "myQueue.enqueue('Iffah')"
   ]
  },
  {
   "cell_type": "code",
   "execution_count": 99,
   "metadata": {},
   "outputs": [],
   "source": [
    "myQueue.enqueue('Amir')"
   ]
  },
  {
   "cell_type": "code",
   "execution_count": 102,
   "metadata": {},
   "outputs": [
    {
     "name": "stdout",
     "output_type": "stream",
     "text": [
      "Iffah---> Amir---> \n"
     ]
    }
   ],
   "source": [
    "myQueue.printQueue()"
   ]
  },
  {
   "cell_type": "code",
   "execution_count": 101,
   "metadata": {},
   "outputs": [],
   "source": [
    "myQueue.dequeue()"
   ]
  },
  {
   "cell_type": "code",
   "execution_count": 106,
   "metadata": {},
   "outputs": [],
   "source": [
    "# A single node of a singly linked list\n",
    "class Node:\n",
    "  # constructor\n",
    "  def __init__(self, data = None, next=None, prev = None): \n",
    "    self.data = data\n",
    "    self.next = next\n",
    "    self.prev = prev\n",
    "\n",
    "\n",
    "try_this_node = Node(10)"
   ]
  },
  {
   "cell_type": "code",
   "execution_count": 118,
   "metadata": {},
   "outputs": [],
   "source": [
    "class DoublyLinkedList:\n",
    "    def __init__(self):\n",
    "        self.head = None\n",
    "        self.tail = None\n",
    "        \n",
    "    def insert_node (self, data, location = 'start'):\n",
    "        newNode = Node(data)\n",
    "        \n",
    "        if (self.head is None):\n",
    "            self.head = newNode\n",
    "            self.tail = newNode\n",
    "        else:\n",
    "            if (location is 'start'):\n",
    "                current_node = self.head\n",
    "                newNode.next = current_node\n",
    "                newNode.prev = None\n",
    "                current_node.prev = newNode\n",
    "                self.head = newNode\n",
    "                \n",
    "            if (location is 'end'): \n",
    "                newNode.prev = self.tail\n",
    "                self.tail.next = newNode\n",
    "                self.tail = newNode\n",
    "    \n",
    "    #add a node between two elements\n",
    "   \n",
    "    #delete a node## take inspiration from the singly linked list\n",
    "\n",
    "    \n",
    "    def printLL (self):\n",
    "        if (self.head is None):\n",
    "            print('LinkedList is Empty')\n",
    "            return\n",
    "        current_node = self.head\n",
    "        list_names = ''\n",
    "        while (current_node):\n",
    "            list_names += str(current_node.data) + '---> '\n",
    "            current_node = current_node.next\n",
    "        print(list_names)       \n",
    "            \n",
    "                "
   ]
  },
  {
   "cell_type": "code",
   "execution_count": 120,
   "metadata": {},
   "outputs": [
    {
     "name": "stdout",
     "output_type": "stream",
     "text": [
      "3---> 10---> 6---> 27---> \n"
     ]
    }
   ],
   "source": [
    "myDLL = DoublyLinkedList()\n",
    "myDLL.insert_node(6)\n",
    "myDLL.insert_node(10,'start')\n",
    "myDLL.insert_node(3,'start')\n",
    "myDLL.insert_node(27,'end')\n",
    "myDLL.printLL()\n"
   ]
  },
  {
   "cell_type": "code",
   "execution_count": null,
   "metadata": {},
   "outputs": [],
   "source": []
  }
 ],
 "metadata": {
  "kernelspec": {
   "display_name": "Python 3",
   "language": "python",
   "name": "python3"
  },
  "language_info": {
   "codemirror_mode": {
    "name": "ipython",
    "version": 3
   },
   "file_extension": ".py",
   "mimetype": "text/x-python",
   "name": "python",
   "nbconvert_exporter": "python",
   "pygments_lexer": "ipython3",
   "version": "3.7.1"
  }
 },
 "nbformat": 4,
 "nbformat_minor": 2
}
