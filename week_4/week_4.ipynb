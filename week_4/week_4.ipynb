{
 "cells": [
  {
   "cell_type": "code",
   "execution_count": 59,
   "metadata": {},
   "outputs": [],
   "source": [
    "# A single node of a singly linked list\n",
    "class Node:\n",
    "  # constructor\n",
    "  def __init__(self, data = None, next=None): \n",
    "    self.data = data\n",
    "    self.next = next"
   ]
  },
  {
   "cell_type": "code",
   "execution_count": 71,
   "metadata": {},
   "outputs": [],
   "source": [
    "just_a_node = Node(5)"
   ]
  },
  {
   "cell_type": "code",
   "execution_count": 72,
   "metadata": {},
   "outputs": [
    {
     "data": {
      "text/plain": [
       "5"
      ]
     },
     "execution_count": 72,
     "metadata": {},
     "output_type": "execute_result"
    }
   ],
   "source": [
    "just_a_node.data"
   ]
  },
  {
   "cell_type": "code",
   "execution_count": 132,
   "metadata": {},
   "outputs": [],
   "source": [
    "# A Linked List class with a single head node\n",
    "class LinkedList:\n",
    "    def __init__(self):  \n",
    "        self.head = None\n",
    "        \n",
    "      # insertion method for the linked list\n",
    "    def insert_node(self, data, location = 'end'):\n",
    "        newNode = Node(data)\n",
    "        \n",
    "        if (self.head is None):\n",
    "            self.head = newNode\n",
    "        else:\n",
    "            if (location is 'start'):\n",
    "                newNode.next = self.head\n",
    "                self.head = newNode\n",
    "\n",
    "            elif (location is 'end'):\n",
    "                current_node = self.head\n",
    "                while(current_node.next):\n",
    "                    current_node = current_node.next\n",
    "                current_node.next = newNode\n",
    "                \n",
    "    def get_length(self):\n",
    "        if (self.head is None):\n",
    "            return 0\n",
    "        else:\n",
    "            counter = 0\n",
    "            current_node = self.head\n",
    "            while(current_node):\n",
    "                counter +=1\n",
    "                current_node = current_node.next\n",
    "            print ('length is ', counter)\n",
    "            return counter\n",
    "            \n",
    "                \n",
    "    def delete_node(self, location = 'start'):\n",
    "        if (self.head is None):\n",
    "            print ('linkedlist is already emtpy, nothing to delete')\n",
    "            return\n",
    "        self.head = self.head.next\n",
    "        \n",
    "    \n",
    "    # print method for the linked list\n",
    "    def printLL(self):\n",
    "        current_node = self.head\n",
    "        list_names = ''\n",
    "        while(current_node):\n",
    "            list_names += str(current_node.data) + '--->  '\n",
    "            current_node = current_node.next\n",
    "        print(list_names)\n",
    "        "
   ]
  },
  {
   "cell_type": "code",
   "execution_count": 12,
   "metadata": {},
   "outputs": [],
   "source": [
    "print(\"File one __name__ is set to: {}\" .format(__name__))\n",
    "if __name__ == '__main__':\n",
    "    pass"
   ]
  },
  {
   "cell_type": "code",
   "execution_count": 128,
   "metadata": {},
   "outputs": [
    {
     "name": "stdout",
     "output_type": "stream",
     "text": [
      "lion--->  goose--->  frog--->  zebra--->  \n",
      "length is  4\n"
     ]
    }
   ],
   "source": [
    "if __name__ == '__main__':\n",
    "    myLL= LinkedList()\n",
    "    myLL.insert_node('frog','start')\n",
    "    myLL.insert_node('goose','start')\n",
    "    myLL.insert_node('lion','start')\n",
    "    myLL.insert_node('zebra')\n",
    "    "
   ]
  },
  {
   "cell_type": "code",
   "execution_count": 129,
   "metadata": {},
   "outputs": [],
   "source": [
    "myLL.delete_node(0)"
   ]
  },
  {
   "cell_type": "code",
   "execution_count": 131,
   "metadata": {},
   "outputs": [
    {
     "name": "stdout",
     "output_type": "stream",
     "text": [
      "goose--->  frog--->  zebra--->  \n",
      "length is  3\n"
     ]
    },
    {
     "data": {
      "text/plain": [
       "3"
      ]
     },
     "execution_count": 131,
     "metadata": {},
     "output_type": "execute_result"
    }
   ],
   "source": [
    "myLL.printLL()\n",
    "myLL.get_length()\n"
   ]
  },
  {
   "cell_type": "code",
   "execution_count": 104,
   "metadata": {},
   "outputs": [],
   "source": []
  },
  {
   "cell_type": "code",
   "execution_count": 105,
   "metadata": {},
   "outputs": [
    {
     "name": "stdout",
     "output_type": "stream",
     "text": [
      "lion--->  goose--->  frog--->  \n"
     ]
    }
   ],
   "source": []
  },
  {
   "cell_type": "code",
   "execution_count": 70,
   "metadata": {},
   "outputs": [
    {
     "name": "stdout",
     "output_type": "stream",
     "text": [
      "3\n",
      "4\n",
      "5\n"
     ]
    }
   ],
   "source": []
  },
  {
   "cell_type": "code",
   "execution_count": 134,
   "metadata": {},
   "outputs": [
    {
     "name": "stdout",
     "output_type": "stream",
     "text": [
      "Created DLL is: \n",
      "Traversal in forward direction \n",
      "4 8 1 7 \n",
      "Traversal in reverse direction \n",
      "7 1 8 4 "
     ]
    }
   ],
   "source": [
    "# A doubly linked list node\n",
    "class Node:\n",
    "    def __init__(self, data):\n",
    "        self.data = data\n",
    "        self.prev = None\n",
    "        self.next = None\n",
    " \n",
    "    # /* Given a reference (pointer to pointer) \n",
    "    # to the head of a list\n",
    "    # and an int, inserts a new node on \n",
    "    # the front of the list. */\n",
    "    def insert_node(index, new_data):\n",
    "        if index <0 or index\n",
    "        \n",
    "        new_node = Node(new_data)\n",
    " \n",
    "        # Make next of new node as \n",
    "        # head and previous as None */\n",
    "        new_node.next = head_ref\n",
    "        new_node.prev = None\n",
    " \n",
    "        #  change prev of head node to new node */\n",
    "        if (head_ref != None):\n",
    "            head_ref.prev = new_node\n",
    " \n",
    "        #  move the head to point to the new node */\n",
    "        head_ref = new_node\n",
    " \n",
    "        return head_ref\n",
    " \n",
    " \n",
    " \n",
    "\n",
    "    def get_length(self):\n",
    "        if (self.head is None):\n",
    "            return 0\n",
    "        else:\n",
    "            counter = 0\n",
    "            current_node = self.head\n",
    "            while(current_node):\n",
    "                counter +=1\n",
    "                current_node = current_node.next\n",
    "            print ('length is ', counter)\n",
    "            return counter\n",
    "        \n",
    "        \n",
    "        \n",
    "     # /* Given a node as next_node, insert \n",
    "    # a new node before the given node */      \n",
    " \n",
    "    def insertBefore(head_ref, next_node, new_data):\n",
    " \n",
    "        # /*1. check if the given next_node is NULL */\n",
    "        if (next_node == None):\n",
    "            print(\"the given next node cannot be NULL\")\n",
    "            return\n",
    " \n",
    "        # /* 3. put in the data */\n",
    "        new_node = Node(new_data)\n",
    " \n",
    "        # /* 4. Make prev of new node as prev of next_node */\n",
    "        new_node.prev = next_node.prev\n",
    " \n",
    "        # /* 5. Make the prev of next_node as new_node */\n",
    "        next_node.prev = new_node\n",
    " \n",
    "        # /* 6. Make next_node as next of new_node */\n",
    "        new_node.next = next_node\n",
    " \n",
    "        # /* 7. Change next of new_node's previous node */\n",
    "        if (new_node.prev != None):\n",
    "            new_node.prev.next = new_node\n",
    " \n",
    "        # /* 8. If the prev of new_node is NULL, it will be\n",
    "        #   the new head node */\n",
    "        else:\n",
    "            head_ref = new_node\n",
    " \n",
    "        return head_ref\n",
    " \n",
    "    # This function prints contents of linked \n",
    "    # list starting from the given node\n",
    "    def printList(node):\n",
    "        last = None\n",
    "        print(\"Traversal in forward direction \")\n",
    "        while (node != None):\n",
    "            print(node.data, end=\" \")\n",
    "            last = node\n",
    "            node = node.next\n",
    " \n",
    "        print(\"\\nTraversal in reverse direction \")\n",
    "        while (last != None):\n",
    "            print(last.data, end=\" \")\n",
    "            last = last.prev\n",
    " \n"
   ]
  },
  {
   "cell_type": "code",
   "execution_count": null,
   "metadata": {},
   "outputs": [],
   "source": [
    "# /* Start with the empty list */\n",
    "head = None\n",
    "head = push(head, 7)\n",
    "head = push(head, 1)\n",
    " \n",
    "head = push(head, 4)\n",
    " \n",
    "# Insert 8, before 1. So linked list becomes 4.8.1.7.NULL\n",
    "head = insertBefore(head, head.next, 8)\n",
    " \n",
    "print(\"Created DLL is: \")\n",
    "printList(head)"
   ]
  }
 ],
 "metadata": {
  "kernelspec": {
   "display_name": "Python 3",
   "language": "python",
   "name": "python3"
  },
  "language_info": {
   "codemirror_mode": {
    "name": "ipython",
    "version": 3
   },
   "file_extension": ".py",
   "mimetype": "text/x-python",
   "name": "python",
   "nbconvert_exporter": "python",
   "pygments_lexer": "ipython3",
   "version": "3.7.1"
  }
 },
 "nbformat": 4,
 "nbformat_minor": 2
}
