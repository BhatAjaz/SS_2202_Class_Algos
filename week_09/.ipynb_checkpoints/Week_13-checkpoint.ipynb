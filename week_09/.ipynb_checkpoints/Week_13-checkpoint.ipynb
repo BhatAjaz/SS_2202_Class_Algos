{
 "cells": [
  {
   "cell_type": "code",
   "execution_count": 43,
   "metadata": {},
   "outputs": [
    {
     "name": "stdout",
     "output_type": "stream",
     "text": [
      "7\n"
     ]
    },
    {
     "data": {
      "text/plain": [
       "{'A': {'B'}, 'B': {'C', 'D'}, 'D': {'E'}, 'E': {'F'}, 'F': {'G'}}"
      ]
     },
     "execution_count": 43,
     "metadata": {},
     "output_type": "execute_result"
    }
   ],
   "source": [
    "#PRIMS algorithm\n",
    "from collections import defaultdict\n",
    "import heapq\n",
    "\n",
    "\n",
    "def Prims_MST(graph, starting_vertex):\n",
    "    mst = defaultdict(set) # tree we require\n",
    "    visited = set([starting_vertex])  # list of vertices visited, so far only starting vertex\n",
    "    total_cost = 0\n",
    "    # find all edges from starting vertex \n",
    "    edges = [ (cost, starting_vertex, to) for to, cost in graph[starting_vertex].items() ]  #list comprehension\n",
    "    \n",
    "    heapq.heapify(edges) #and order them into a heap, with smallest at the top\n",
    "    \n",
    "    while visited  !=  set(graph.keys()): #edges: # process below while all vertices have not been visited\n",
    "        cost, frm, to = heapq.heappop(edges) # collect/pop the smallest edge from the heap, which is the one at its top \n",
    "        if to not in visited: # if the vertex 'to' connected to this edge is not in the visited list yet\n",
    "            visited.add(to)   # add this vertex to the visted list \n",
    "            mst[frm].add(to)  # add the existing vertex in cloud and this newly added vertex as key,value pair to the MST dictionary\n",
    "            total_cost += cost #add the cost of the edge to the total cost of the MST\n",
    "            for to_next, cost in graph[to].items(): # process all the edges of the newly visted vertex 'to'\n",
    "                if to_next not in visited:    # check if the vertices conncetd to these edges are not in the visited already\n",
    "                    heapq.heappush(edges, (cost, to, to_next)) # if not in the visited, insert them to the heap of edges\n",
    "    print('total cost of MST is ', total_cost)\n",
    "    return mst\n",
    "\n",
    "example_graph = {\n",
    "    'A': {'B': 2, 'C': 3},\n",
    "    'B': {'A': 2, 'C': 1, 'D': 1, 'E': 4},\n",
    "    'C': {'A': 3, 'B': 1, 'F': 5},\n",
    "    'D': {'B': 1, 'E': 1},\n",
    "    'E': {'B': 4, 'D': 1, 'F': 1},\n",
    "    'F': {'C': 5, 'E': 1, 'G': 1},\n",
    "    'G': {'F': 1},\n",
    "}\n",
    "\n",
    "dict(Prims_MST(example_graph, 'A'))\n",
    "\n",
    "# {'A': set(['B']),\n",
    "#  'B': set(['C', 'D']),\n",
    "#  'D': set(['E']),\n",
    "#  'E': set(['F']),\n",
    "#  'F': set(['G'])}"
   ]
  },
  {
   "cell_type": "code",
   "execution_count": 2,
   "metadata": {},
   "outputs": [
    {
     "name": "stdout",
     "output_type": "stream",
     "text": [
      "1 F G\n",
      "1 G F\n",
      "2 A B\n",
      "2 B A\n",
      "2 E F\n",
      "2 F E\n",
      "3 A C\n",
      "3 C A\n",
      "4 B C\n",
      "4 C B\n",
      "4 D E\n",
      "4 E D\n",
      "total cost of MST is  12\n"
     ]
    },
    {
     "data": {
      "text/plain": [
       "{'F': {'E', 'G'}, 'A': {'B', 'C'}, 'E': {'D'}}"
      ]
     },
     "execution_count": 2,
     "metadata": {},
     "output_type": "execute_result"
    }
   ],
   "source": [
    "#Kruskals algorithm\n",
    "from collections import defaultdict\n",
    "import heapq\n",
    "\n",
    "def Kruskals_MST(graph):\n",
    "    mst = defaultdict(set) # tree we require\n",
    "    visited = set()  # list of vertices visited, so far only starting vertex\n",
    "    total_cost = 0\n",
    "    # find all edges from starting vertex \n",
    "    edges = []\n",
    "    for starting_vertex, val in graph.items():\n",
    "        for to, cost in graph[starting_vertex].items():\n",
    "            edges.append ((cost, starting_vertex, to))\n",
    "    #print(edges)\n",
    "    \n",
    "    heapq.heapify(edges) #and order them into a heap, with smallest at the top\n",
    "    \n",
    "    while visited  !=  set(graph.keys()): #edges: # \n",
    "        cost, frm, to = heapq.heappop(edges)\n",
    "        print( cost, frm, to)\n",
    "        if (frm and to) not in visited:\n",
    "            visited.add(frm)\n",
    "            visited.add(to)\n",
    "            mst[frm].add(to)\n",
    "            total_cost += cost\n",
    "        elif to not in visited:\n",
    "            visited.add(to)\n",
    "            mst[frm].add(to)\n",
    "            total_cost += cost\n",
    "    print('total cost of MST is ', total_cost)\n",
    "    return mst\n",
    "\n",
    "example_graph = {\n",
    "    'A': {'B': 2, 'C': 3},\n",
    "    'B': {'A': 2, 'C': 4, 'D': 5, 'E': 9},\n",
    "    'C': {'A': 3, 'B': 4, 'F': 5},\n",
    "    'D': {'B': 5, 'E': 4},\n",
    "    'E': {'B': 9, 'D': 4, 'F': 2},\n",
    "    'F': {'C': 5, 'E': 2, 'G': 1},\n",
    "    'G': {'F': 1},\n",
    "}\n",
    "\n",
    "dict(Kruskals_MST(example_graph))\n"
   ]
  },
  {
   "cell_type": "code",
   "execution_count": null,
   "metadata": {},
   "outputs": [],
   "source": []
  }
 ],
 "metadata": {
  "kernelspec": {
   "display_name": "Python 3 (Spyder)",
   "language": "python3",
   "name": "python3"
  },
  "language_info": {
   "codemirror_mode": {
    "name": "ipython",
    "version": 3
   },
   "file_extension": ".py",
   "mimetype": "text/x-python",
   "name": "python",
   "nbconvert_exporter": "python",
   "pygments_lexer": "ipython3",
   "version": "3.7.1"
  }
 },
 "nbformat": 4,
 "nbformat_minor": 4
}
