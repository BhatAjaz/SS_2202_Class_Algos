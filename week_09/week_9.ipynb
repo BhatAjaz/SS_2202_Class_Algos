{
 "cells": [
  {
   "cell_type": "code",
   "execution_count": 14,
   "metadata": {},
   "outputs": [],
   "source": [
    "class Max_Heap:\n",
    "    # initializing the constructor with arr (array that we have to convert into heap). The default value is None([])\n",
    "    def __init__(self, arr=[]):\n",
    "        # Initializing the heap with no elements in it\n",
    "        self._heap = []\n",
    "        \n",
    "        # If the array by the user is not empty, push all the elements\n",
    "        if arr is not None:\n",
    "            for root in arr:\n",
    "                self.push(root)\n",
    "\n",
    "# push is used to insert new value to the heap\n",
    "    def push(self, value):\n",
    "        # Appending the value given by user at the last\n",
    "        self._heap.append(value)\n",
    "        # Calling the bottom_up() to ensure heap is in order.\n",
    "        # here we are passing our heap \n",
    "        _bottom_up(self._heap, len(self) - 1)\n",
    "\n",
    "# pop is used to remove top value from the heap\n",
    "    def pop(self):\n",
    "        if len(self._heap)!=0:         # swapping the root value with the last value.\n",
    "            _swap(self._heap, len(self) - 1, 0)\n",
    "        # storing the popped value in the root variable\n",
    "\n",
    "            root = self._heap.pop()\n",
    "\n",
    "        #Calling the top_down function to ensure that the heap is still in order \n",
    "            _top_down(self._heap, 0)\n",
    "            \n",
    "        else:\n",
    "            root=\"Heap is empty\"\n",
    "        return root\n",
    "\n",
    "# It tells the length of the heap\n",
    "    def __len__(self):\n",
    "        return len(self._heap)\n",
    "# print the first element (The root)\n",
    "    def peek(self):\n",
    "        if len(self._heap)!=0:\n",
    "            return(self._heap[0])\n",
    "        else:\n",
    "            return(\"heap is empty\")\n",
    "\n",
    "\n",
    "# Swaps value in heap between i and j index\n",
    "def _swap(L, i, j):\n",
    "    L[i], L[j] = L[j], L[i]\n",
    "\n",
    "# This is a private function used for traversing up the tree and ensuring that heap is in order\n",
    "def _bottom_up(heap, index):\n",
    "    # Finding the parent of the element\n",
    "    parent_index = (index - 1) // 2\n",
    "    \n",
    "    # If we are already at the root node return nothing\n",
    "    if parent_index < 0:\n",
    "        return\n",
    "\n",
    "    # If the current node is greater than the root node, swap them\n",
    "    if heap[index] > heap[parent_index]:\n",
    "        _swap(heap, index,parent_index)\n",
    "    # Again call bottom_up to ensure the heap is in order\n",
    "        _bottom_up(heap, parent_index)\n",
    "\n",
    "# This is a private function which ensures heap is in order after root is popped\n",
    "def _top_down(heap, index):\n",
    "    child_index = 2 * index + 1\n",
    "    # If we are at the end of the heap, return nothing\n",
    "    if child_index >= len(heap):\n",
    "        return\n",
    "\n",
    "    # For two children swap with the larger one\n",
    "    if child_index + 1 < len(heap) and heap[child_index] < heap[child_index + 1]:\n",
    "        child_index += 1\n",
    "\n",
    "    # If the child node is smaller than the current node, swap them\n",
    "    if heap[child_index] > heap[index]:\n",
    "        _swap(heap, child_index, index)\n",
    "        _top_down(heap, child_index)"
   ]
  },
  {
   "cell_type": "code",
   "execution_count": 18,
   "metadata": {},
   "outputs": [
    {
     "name": "stdout",
     "output_type": "stream",
     "text": [
      "Value at top: 6\n",
      "Value at top: 11\n",
      "Root popped: 11\n",
      "Value at top: 15\n",
      "Root popped: 15\n",
      "Root popped: 9\n"
     ]
    }
   ],
   "source": [
    "# Making the object of the Heap class and passing the array to convert into heap\n",
    "m=Max_Heap([1,2,3,4,5,6])\n",
    "# Checking the value at top\n",
    "print(\"Value at top:\",m.peek())\n",
    "# pushing elements into heap\n",
    "m.push(1)\n",
    "m.push(11)\n",
    "print(\"Value at top:\",m.peek())\n",
    "# Deleting the root node\n",
    "print(\"Root popped:\",m.pop())\n",
    "m.push(7)\n",
    "m.push(9)\n",
    "m.push(15)\n",
    "print(\"Value at top:\",m.peek())\n",
    "print(\"Root popped:\",m.pop())\n",
    "\n",
    "m2=Max_Heap([50,20,30,10,8,16])\n",
    "m2.push(77)\n",
    "print(\"Root popped:\",m.pop())"
   ]
  },
  {
   "cell_type": "code",
   "execution_count": 19,
   "metadata": {},
   "outputs": [],
   "source": [
    "def heapsort(arr):\n",
    "    barr =[]\n",
    "    m = Max_Heap()\n",
    "    for elem in arr:\n",
    "        m.push(elem)\n",
    "    for i in range(len(arr)):\n",
    "        barr.append(m.pop()) \n",
    "    return barr"
   ]
  },
  {
   "cell_type": "code",
   "execution_count": 20,
   "metadata": {},
   "outputs": [
    {
     "name": "stdout",
     "output_type": "stream",
     "text": [
      "[30, 22, 11, 8, 7, 2]\n"
     ]
    }
   ],
   "source": [
    "print(heapsort([7,2,8,11,30,22]))"
   ]
  },
  {
   "cell_type": "code",
   "execution_count": null,
   "metadata": {},
   "outputs": [],
   "source": []
  }
 ],
 "metadata": {
  "kernelspec": {
   "display_name": "Python 3 (ipykernel)",
   "language": "python",
   "name": "python3"
  },
  "language_info": {
   "codemirror_mode": {
    "name": "ipython",
    "version": 3
   },
   "file_extension": ".py",
   "mimetype": "text/x-python",
   "name": "python",
   "nbconvert_exporter": "python",
   "pygments_lexer": "ipython3",
   "version": "3.7.11"
  }
 },
 "nbformat": 4,
 "nbformat_minor": 4
}
