{
 "cells": [
  {
   "cell_type": "code",
   "execution_count": 1,
   "metadata": {},
   "outputs": [],
   "source": [
    "class Stack:\n",
    "    def __init__ (self):\n",
    "        ## create an empty stack\n",
    "        self.s = []\n",
    "        \n",
    "    def push (self, value):\n",
    "        # add an element onto the stack \n",
    "        self.s.append(value)\n",
    "        \n",
    "    def pop (self):\n",
    "        #collect the topmost element\n",
    "        if self.is_empty():\n",
    "            print('Stack is empty, cannot pop anything')\n",
    "            return\n",
    "        return self.s.pop()\n",
    "        \n",
    "    def size (self):\n",
    "        return len(self.s)\n",
    "    \n",
    "    def peek (self):\n",
    "        #just see the topmost element, don't collect it\n",
    "        return self.s[-1]\n",
    "    \n",
    "    def is_empty(self):\n",
    "        return (len(self.s) == 0) "
   ]
  },
  {
   "cell_type": "code",
   "execution_count": 2,
   "metadata": {},
   "outputs": [],
   "source": [
    "def experMatcher(expr):\n",
    "    left_braces = '{[('\n",
    "    right_braces = '}])'\n",
    "    braces_stack = Stack()\n",
    "    for c in expr:\n",
    "        if c in left_braces:\n",
    "            braces_stack.push(c)\n",
    "        elif c in right_braces:\n",
    "            if braces_stack.is_empty():\n",
    "                print('extra right braces with no left brace to match with')\n",
    "                return False\n",
    "  \n",
    "            if left_braces.index(braces_stack.pop()) != right_braces.index(c):\n",
    "                print('wrong brace to match with')\n",
    "                return False\n",
    "                \n",
    "    if braces_stack.is_empty():\n",
    "        print('All braces match')\n",
    "        return True\n",
    "    else:\n",
    "        print('Extra left braces')\n",
    "        return False\n"
   ]
  },
  {
   "cell_type": "code",
   "execution_count": 3,
   "metadata": {},
   "outputs": [
    {
     "name": "stdout",
     "output_type": "stream",
     "text": [
      "wrong brace to match with\n"
     ]
    },
    {
     "data": {
      "text/plain": [
       "False"
      ]
     },
     "execution_count": 3,
     "metadata": {},
     "output_type": "execute_result"
    }
   ],
   "source": [
    "myexpr = '2*y+{4*{{y**[3*}}x]+9-2}'\n",
    "experMatcher(myexpr)\n",
    "\n"
   ]
  },
  {
   "cell_type": "code",
   "execution_count": 4,
   "metadata": {},
   "outputs": [
    {
     "ename": "NameError",
     "evalue": "name 'myStack1' is not defined",
     "output_type": "error",
     "traceback": [
      "\u001b[1;31m---------------------------------------------------------------------------\u001b[0m",
      "\u001b[1;31mNameError\u001b[0m                                 Traceback (most recent call last)",
      "\u001b[1;32m<ipython-input-4-bbe5f067b13d>\u001b[0m in \u001b[0;36m<module>\u001b[1;34m\u001b[0m\n\u001b[1;32m----> 1\u001b[1;33m \u001b[0mmyStack1\u001b[0m\u001b[1;33m.\u001b[0m\u001b[0mpush\u001b[0m\u001b[1;33m(\u001b[0m\u001b[1;34m'aljazeera.com/economy'\u001b[0m\u001b[1;33m)\u001b[0m\u001b[1;33m\u001b[0m\u001b[1;33m\u001b[0m\u001b[0m\n\u001b[0m",
      "\u001b[1;31mNameError\u001b[0m: name 'myStack1' is not defined"
     ]
    }
   ],
   "source": [
    "myStack1.push('aljazeera.com/economy')"
   ]
  },
  {
   "cell_type": "code",
   "execution_count": 33,
   "metadata": {},
   "outputs": [
    {
     "data": {
      "text/plain": [
       "2"
      ]
     },
     "execution_count": 33,
     "metadata": {},
     "output_type": "execute_result"
    }
   ],
   "source": [
    "myStack1.size()"
   ]
  },
  {
   "cell_type": "code",
   "execution_count": 23,
   "metadata": {},
   "outputs": [
    {
     "data": {
      "text/plain": [
       "'aljazeera.com/economy'"
      ]
     },
     "execution_count": 23,
     "metadata": {},
     "output_type": "execute_result"
    }
   ],
   "source": [
    "myStack1.peek()\n",
    "myStack1.push('aljazeera.com')"
   ]
  },
  {
   "cell_type": "code",
   "execution_count": 34,
   "metadata": {},
   "outputs": [
    {
     "data": {
      "text/plain": [
       "False"
      ]
     },
     "execution_count": 34,
     "metadata": {},
     "output_type": "execute_result"
    }
   ],
   "source": [
    "myStack1.is_empty()"
   ]
  },
  {
   "cell_type": "code",
   "execution_count": 41,
   "metadata": {},
   "outputs": [
    {
     "data": {
      "text/plain": [
       "'aljazeera.com'"
      ]
     },
     "execution_count": 41,
     "metadata": {},
     "output_type": "execute_result"
    }
   ],
   "source": [
    "myStack1.pop()"
   ]
  },
  {
   "cell_type": "code",
   "execution_count": 36,
   "metadata": {},
   "outputs": [
    {
     "data": {
      "text/plain": [
       "'aljazeera.com'"
      ]
     },
     "execution_count": 36,
     "metadata": {},
     "output_type": "execute_result"
    }
   ],
   "source": [
    "myStack1.pop()"
   ]
  },
  {
   "cell_type": "code",
   "execution_count": 42,
   "metadata": {},
   "outputs": [
    {
     "name": "stdout",
     "output_type": "stream",
     "text": [
      "Stack is empty, cannot pop anything\n"
     ]
    }
   ],
   "source": [
    "myStack1.pop()"
   ]
  },
  {
   "cell_type": "code",
   "execution_count": null,
   "metadata": {},
   "outputs": [],
   "source": []
  }
 ],
 "metadata": {
  "kernelspec": {
   "display_name": "Python 3",
   "language": "python",
   "name": "python3"
  },
  "language_info": {
   "codemirror_mode": {
    "name": "ipython",
    "version": 3
   },
   "file_extension": ".py",
   "mimetype": "text/x-python",
   "name": "python",
   "nbconvert_exporter": "python",
   "pygments_lexer": "ipython3",
   "version": "3.7.1"
  }
 },
 "nbformat": 4,
 "nbformat_minor": 2
}
