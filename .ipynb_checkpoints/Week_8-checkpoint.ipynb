{
 "cells": [
  {
   "cell_type": "code",
   "execution_count": 1,
   "metadata": {},
   "outputs": [],
   "source": [
    "class Stack:\n",
    "    def __init__ (self):\n",
    "        ## create an empty stack\n",
    "        self.s = []\n",
    "        \n",
    "    def push (self, value):\n",
    "        # add an element onto the stack \n",
    "        self.s.append(value)\n",
    "        \n",
    "    def pop (self):\n",
    "        #collect the topmost element\n",
    "        if self.is_empty():\n",
    "            print('Stack is empty, cannot pop anything')\n",
    "            return\n",
    "        return self.s.pop()\n",
    "        \n",
    "    def size (self):\n",
    "        return len(self.s)\n",
    "    \n",
    "    def peek (self):\n",
    "        #just see the topmost element, don't collect it\n",
    "        return self.s[-1]\n",
    "    \n",
    "    def is_empty(self):\n",
    "        return (len(self.s) == 0) \n",
    "\n",
    "    \n",
    "#my_stack = Stack()\n",
    "#my_stack.push(3)\n",
    "#my_stack.push(8)\n",
    "#my_stack.pop()"
   ]
  },
  {
   "cell_type": "code",
   "execution_count": 2,
   "metadata": {},
   "outputs": [],
   "source": [
    "class Queue:\n",
    "  #FIFO queue implementation using a Python list as underlying storage\n",
    "    DEFAULT_CAPACITY = 10          # moderate capacity for all new queues\n",
    "    def __init__(self):\n",
    "        \"\"\"Create an empty queue.\"\"\"\n",
    "        self.data = [None] * Queue.DEFAULT_CAPACITY\n",
    "        self.size = 0\n",
    "        self.front = 0\n",
    "\n",
    "    def Size(self):\n",
    "        \"\"\"Return the number of elements in the queue.\"\"\"\n",
    "        return self.size\n",
    "    \n",
    "    def is_empty(self):\n",
    "        \"\"\"Return True if the queue is empty.\"\"\"\n",
    "        return self.size == 0\n",
    "    \n",
    "    def first(self):\n",
    "        \"\"\"Return (but do not remove) the element at the front of the queue.\"\"\"\n",
    "\n",
    "        if self.is_empty():\n",
    "            raise Exception('Queue is empty')\n",
    "        return self.data[self.front]\n",
    "\n",
    "    def dequeue(self):\n",
    "        #Remove and return the first element of the queue (i.e., FIFO)\n",
    "        if self.is_empty():\n",
    "            raise Exception('Queue is empty')\n",
    "        answer = self.data[self.front]\n",
    "        self.data[self.front] = None         # help garbage collection\n",
    "        self.front = (self.front + 1) % Queue.DEFAULT_CAPACITY\n",
    "        self.size -= 1\n",
    "        return answer\n",
    "\n",
    "    def enqueue(self, value):\n",
    "        \"\"\"Add an element to the back of queue.\"\"\"\n",
    "        if self.size == Queue.DEFAULT_CAPACITY:\n",
    "            #self._resize(2 * len(self.data))     # double the array size\n",
    "            raise Exception('Queue is full')\n",
    "        rear = (self.front + self.size) % Queue.DEFAULT_CAPACITY\n",
    "        self.data[rear] = value\n",
    "        self.size += 1\n",
    "    \n",
    "    def _resize(self, cap):                  # we assume cap >= len(self)\n",
    "        \"\"\"Resize to a new list of capacity >= len(self).\"\"\"\n",
    "        old = self.data                       # keep track of existing list\n",
    "        self.data = [None] * cap              # allocate list with new capacity\n",
    "        walk = self.front\n",
    "        for k in range(self.size):            # only consider existing elements\n",
    "            self.data[k] = old[walk]            # intentionally shift indices\n",
    "            walk = (1 + walk) % len(old)         # use old size as modulus\n",
    "            self.front = 0                        # front has been realigned\n",
    "#qq = Queue()\n",
    "#qq.enqueue(44)\n",
    "#qq.enqueue(12)\n",
    "#qq.dequeue()\n",
    "#qq.dequeue()"
   ]
  },
  {
   "cell_type": "code",
   "execution_count": 3,
   "metadata": {},
   "outputs": [],
   "source": [
    "graph = {'A': ['B', 'C'],\n",
    "         'B': ['A', 'D', 'E'],\n",
    "         'C': ['A', 'F'],\n",
    "         'D': ['B'],\n",
    "         'E': ['B', 'F'],\n",
    "         'F': ['C', 'E']}"
   ]
  },
  {
   "cell_type": "code",
   "execution_count": 4,
   "metadata": {},
   "outputs": [
    {
     "data": {
      "text/plain": [
       "['A', 'B', 'C', 'D', 'E', 'F']"
      ]
     },
     "execution_count": 4,
     "metadata": {},
     "output_type": "execute_result"
    }
   ],
   "source": [
    "def bfs(graph, start): \n",
    "    visited = []           # the list of all vertices visited over bfs\n",
    "    vert_Q = Queue()       # a queue that holds vertices temporarily as we go bfs\n",
    "    vert_Q.enqueue(start)  # add the starting vertex to the rear of queue\n",
    "\n",
    "    while not vert_Q.is_empty():   # keep exploring till no vertex remains unvisited\n",
    "        vertex = vert_Q.dequeue()  # get the first vertex at the head of the queue\n",
    "        if vertex not in visited:  # if this vertex has not been visited before, (i.e. not in visisted list yet)\n",
    "            visited.append(vertex) # visit it, i.e. add it to the visited list\n",
    "            for v in graph[vertex]: # for all its adjacent vertices\n",
    "                if v not in visited: # in case any of these has not been visited before\n",
    "                    vert_Q.enqueue(v) # add it to the rear of the queue\n",
    "    return visited                    # when the queue is emptied, return the visited sequence   \n",
    "\n",
    "bfs(graph, 'A') # {'B', 'C', 'A', 'F', 'D', 'E'}"
   ]
  },
  {
   "cell_type": "code",
   "execution_count": 6,
   "metadata": {},
   "outputs": [
    {
     "data": {
      "text/plain": [
       "['A', 'B', 'D', 'E', 'F', 'C']"
      ]
     },
     "execution_count": 6,
     "metadata": {},
     "output_type": "execute_result"
    }
   ],
   "source": [
    "graph = {'A': ['B', 'C'],\n",
    "         'B': ['A', 'D', 'E'],\n",
    "         'C': ['A', 'F'],\n",
    "         'D': ['B'],\n",
    "         'E': ['B', 'F'],\n",
    "         'F': ['C', 'E']}\n",
    "\n",
    "def dfs(graph, start, visited=[]):    # visited is the list of all vertices visited over dfs\n",
    "    vert_stack = Stack()              # a stack that holds vertices temporarily as we go dfs\n",
    "    vert_stack.push(start)            # push the starting vertex onto the top of stack\n",
    "    \n",
    "    while not vert_stack.is_empty():   # keep exploring till no vertex remains unvisited\n",
    "        vertex = vert_stack.pop()      # get the first vertex at the top of the stack\n",
    "        #print(vertex)\n",
    "        if vertex not in visited:      # if this vertex has not been visited before, (i.e. not in visisted list yet)\n",
    "            visited.append(vertex)     # visit it, i.e. add it to the visited list\n",
    "            for v in graph[vertex]:    # for each of its adjacent vertices, v\n",
    "                if v not in visited:   # in case the vertex v has not been visited before\n",
    "                    dfs(graph, v, visited)  # depth first search the vertex v\n",
    "    return visited                      # when the stack is emptied, return the visited sequence \n",
    "\n",
    "dfs(graph, 'A') # {'E', 'D', 'F', 'A', 'C', 'B'}"
   ]
  },
  {
   "cell_type": "code",
   "execution_count": 10,
   "metadata": {},
   "outputs": [
    {
     "data": {
      "text/plain": [
       "['D', 'B', 'E', 'F', 'C', 'A']"
      ]
     },
     "execution_count": 10,
     "metadata": {},
     "output_type": "execute_result"
    }
   ],
   "source": [
    "graph = {'A': ['B', 'C'],\n",
    "         'B': ['A', 'D', 'E'],\n",
    "         'C': ['A', 'F'],\n",
    "         'D': ['B'],\n",
    "         'E': ['B', 'F'],\n",
    "         'F': ['C', 'E']}\n",
    "\n",
    "def dfs(graph, start, visited=[]):    # visited is the list of all vertices visited over dfs\n",
    "    vert_stack = Stack()              # a stack that holds vertices temporarily as we go dfs\n",
    "    vert_stack.push(start)            # push the starting vertex onto the top of stack\n",
    "    \n",
    "    while not vert_stack.is_empty():   # keep exploring till no vertex remains unvisited\n",
    "        vertex = vert_stack.pop()      # get the first vertex at the top of the stack\n",
    "        #print(vertex)\n",
    "        if vertex not in visited:      # if this vertex has not been visited before, (i.e. not in visisted list yet)\n",
    "            visited.append(vertex)     # visit it, i.e. add it to the visited list\n",
    "            for v in graph[vertex]:    # for each of its adjacent vertices, v\n",
    "                if v not in visited:   # in case the vertex v has not been visited before\n",
    "                    vert_stack.push(v)   # depth first search the vertex v\n",
    "    return visited                      # when the stack is emptied, return the visited sequence \n",
    "\n",
    "dfs(graph, 'D') # {'E', 'D', 'F', 'A', 'C', 'B'}"
   ]
  },
  {
   "cell_type": "code",
   "execution_count": null,
   "metadata": {},
   "outputs": [],
   "source": []
  }
 ],
 "metadata": {
  "kernelspec": {
   "display_name": "Python 3 (Spyder)",
   "language": "python3",
   "name": "python3"
  },
  "language_info": {
   "codemirror_mode": {
    "name": "ipython",
    "version": 3
   },
   "file_extension": ".py",
   "mimetype": "text/x-python",
   "name": "python",
   "nbconvert_exporter": "python",
   "pygments_lexer": "ipython3",
   "version": "3.7.1"
  }
 },
 "nbformat": 4,
 "nbformat_minor": 4
}
